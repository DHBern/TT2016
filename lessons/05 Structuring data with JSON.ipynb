{
 "cells": [
  {
   "cell_type": "markdown",
   "metadata": {},
   "source": [
    "Fonts, characters, and Unicode\n",
    "======\n",
    "\n",
    "A character is nothing but a number. In the beginning these numbers were defined by ASCII.\n",
    "\n",
    "- Mac / Linux: go to command line and \"man ascii\"\n",
    "- Windows: look on Wikipedia\n",
    "\n",
    "ASCII was designed to fit into seven bits, which is one short of a byte; 2^7 is 128, so they could have 128 characters. Programmers could do various clever things with the eighth bit if they felt like it.\n",
    "\n",
    "The first 32 characters in ASCII are essentially there to control a teletype machine or similar. For our purposes the fun starts with position 32, the space character.\n",
    "\n",
    "- How many of you have seen URLS like http://example.com/Page%20with%20space.html\n",
    "- That 20 is a space!\n",
    "\n",
    "Then the Americans noticed that there were people in the rest of the world who might even have entirely different alphabets, and inexplicably wanted to use them! So the eight-bit encodings were born. 2^8 is 256, so just by using that extra bit you can have double the number of characters.\n",
    "\n",
    "- Linux: \"man iso_8859_1\"\n",
    "- Mac/Windows: look on Wikipedia\n",
    "\n",
    "Native German speakers will have used -1 or Windows 1252 or MacRoman, until the Euro came along and they invented -15. Slavic languages had -2, Greek -7. These didn't cover all the world's languages - for Armenian a national standard called ArmSCII was developed. \n",
    "\n",
    "Some languages have more than 256 characters! For these they had to make systems that use two bytes to represent a character, which got them up to 2^16 = 65536 characters. At this point the whole system was rather a mess - until you knew which character set was being used for a document, you didn't even know how far to keep looking until you had the entire character. Enter Unicode.\n",
    "\n",
    "- 2^32 = over 4 billion possible characters\n",
    "- Every character is still a number\n",
    "- But now everything except Latin needs at least two bytes to be represented, and how do you know how many bytes are needed?\n",
    "\n",
    "Essentially there were two options: either have every character be 4 bytes, or come up with a system where you can tell by looking at the first byte where the character ends. Option 1 isn't very popular because it makes text files that use the Latin alphabet 4x as big as they used to be, and also because all those zillions of ASCII text files that were sitting around would have to be converted. \n",
    "\n",
    "The solution that has been made default by everyone but Windows is an encoding called UTF-8. You can look at the Wikipedia page if you are interested in how it works (it's really quite elegant) but its main advantage is that ASCII files are also readable as UTF-8 files. Windows uses a default called UTF-16 that works similarly, but uses a minimum of two bytes per character and isn't compatible with ASCII. Major advantage of Python 3 (which we are using in class) over Python 2 (which you are learning on Codecademy) is the vastly improved support for Unicode and UTF-8.\n",
    "\n",
    "You can see the Unicode number (also known as the *code point*), as well as the UTF-8 representation, by looking at your system's character map.\n",
    "\n",
    "- Ubuntu and Windows: 'Character Map' (or 'Zeichentabelle')\n",
    "- Mac: System Preferences -> Keyboard -> \"Show Keyboard, Emoji, & Symbol Viewers in menu bar\"; then look for \"Emoji & Symbols\" in top right-hand menu bar"
   ]
  },
  {
   "cell_type": "code",
   "execution_count": 1,
   "metadata": {
    "collapsed": false
   },
   "outputs": [
    {
     "name": "stdout",
     "output_type": "stream",
     "text": [
      "Wir können das jetzt probieren!\n",
      "b'Wir k\\xc3\\xb6nnen das jetzt probieren!'\n",
      "Wir kÃ¶nnen das jetzt probieren!\n"
     ]
    }
   ],
   "source": [
    "aText = \"Wir können das jetzt probieren!\"\n",
    "print(aText)\n",
    "print(aText.encode('utf-8')) # This is what happens when you don't know what character set will decode it!\n",
    "\n",
    "print(aText.encode('utf-8').decode('cp1252'))  # This is what happens when you guess the wrong character set!"
   ]
  },
  {
   "cell_type": "markdown",
   "metadata": {},
   "source": [
    "Data needs structure!\n",
    "=====================\n",
    "\n",
    "When we start using digital tools, the first thing we have to find out is what kind of data they expect and how it needs to be structured. Does the tool want a plain old text? Several plain old texts? Some extra information besides?\n",
    "\n",
    "Many tools, including the one we'll look at today, use the same sorts of variables, lists, and dictionaries that we've been learning about in Python. When they speak to each other they often express these variables, lists, and dictionaries in a fornat called JSON."
   ]
  },
  {
   "cell_type": "code",
   "execution_count": 2,
   "metadata": {
    "collapsed": false
   },
   "outputs": [],
   "source": [
    "import json"
   ]
  },
  {
   "cell_type": "markdown",
   "metadata": {},
   "source": [
    "JSON stands for \"JavaScript Object Notation\", and was so amazingly simple and useful that it is used for many many things that have nothing to do with JavaScript.\n",
    "\n",
    "The idea is that everything is an *object*. There are simple objects, and there are complex objects, but they are all objects. And pretty much anything can be represented this way!\n",
    "\n",
    "Simple objects\n",
    "--------------\n",
    "\n",
    "Simple objects are things like numbers, letters, words, entire sequences of words, and Boolean values i.e. *true* or *false*. JSON represents these...exactly as they are."
   ]
  },
  {
   "cell_type": "code",
   "execution_count": 3,
   "metadata": {
    "collapsed": false
   },
   "outputs": [
    {
     "name": "stdout",
     "output_type": "stream",
     "text": [
      "A number 1.234\n",
      "A character \"A\"\n",
      "A string \"Message in 1000 bottles\"\n",
      "A Boolean true\n"
     ]
    }
   ],
   "source": [
    "print(\"A number\", json.dumps( 1.234 ))\n",
    "print(\"A character\", json.dumps(chr(65)))\n",
    "print(\"A string\", json.dumps( 'Message in %d bottles' % 1000 ))\n",
    "print(\"A Boolean\", json.dumps( 2 + 2 == 4 ))"
   ]
  },
  {
   "cell_type": "markdown",
   "metadata": {},
   "source": [
    "It's worth noticing what it did with that bottled message though - it was printed with double quotes around it. This is part of the JSON specification - strings, which is to say simple objects that are neither numbers or Booleans, are wrapped in double quotes. Compare the JSON-dumped and plain version..."
   ]
  },
  {
   "cell_type": "code",
   "execution_count": 4,
   "metadata": {
    "collapsed": false
   },
   "outputs": [
    {
     "name": "stdout",
     "output_type": "stream",
     "text": [
      "This is my normal string - Message in 1000 bottles\n",
      "My JSON string - \"Message in \\\"1000\\\" bottles\"\n"
     ]
    }
   ],
   "source": [
    "print(\"This is my normal string -\", 'Message in %d bottles' % 1000)\n",
    "print(\"My JSON string -\", json.dumps( 'Message in \"%d\" bottles' % 1000 ))"
   ]
  },
  {
   "cell_type": "markdown",
   "metadata": {},
   "source": [
    "So what happens if your message itself has a quotation?"
   ]
  },
  {
   "cell_type": "code",
   "execution_count": 5,
   "metadata": {
    "collapsed": false
   },
   "outputs": [
    {
     "name": "stdout",
     "output_type": "stream",
     "text": [
      "A string - \"\\\"Programming is great!\\\" exclaimed Alice.\"\n"
     ]
    }
   ],
   "source": [
    "print(\"A string -\", json.dumps( '\"Programming is great!\" exclaimed Alice.' ))"
   ]
  },
  {
   "cell_type": "markdown",
   "metadata": {},
   "source": [
    "Double-quotes within a double-quoted string are managed by putting the superpower sign \\ (backslash) in front of them.  And if your string has a backslash? Put a backslash in front of it."
   ]
  },
  {
   "cell_type": "code",
   "execution_count": 6,
   "metadata": {
    "collapsed": false
   },
   "outputs": [
    {
     "name": "stdout",
     "output_type": "stream",
     "text": [
      "\"\\\"What would we do without the \\\\ character?\\\", Susan mused.\"\n"
     ]
    }
   ],
   "source": [
    "backslash_string = '\"What would we do without the \\ character?\", Susan mused.'\n",
    "print(json.dumps( backslash_string ))"
   ]
  },
  {
   "cell_type": "markdown",
   "metadata": {},
   "source": [
    "It's not the prettiest thing ever, but it works! And then if you have some JSON, you can read it again with the `.loads()` function."
   ]
  },
  {
   "cell_type": "code",
   "execution_count": 7,
   "metadata": {
    "collapsed": false
   },
   "outputs": [
    {
     "name": "stdout",
     "output_type": "stream",
     "text": [
      "\"What would we do without the \\ character?\", Susan mused.\n"
     ]
    }
   ],
   "source": [
    "json_string = json.dumps( backslash_string )\n",
    "print(json.loads( json_string ))"
   ]
  },
  {
   "cell_type": "markdown",
   "metadata": {},
   "source": [
    "Complex objects\n",
    "---------------\n",
    "\n",
    "Okay, but we have an entire text and all sorts of information we want to encode, and if we were happy to just throw it in between double quotes, we wouldn't be here. We need complex objects. They include:\n",
    "\n",
    "* A list of objects\n",
    "* A dictionary of objects\n",
    "\n",
    "For starters, we might want to indicate that our text is not just a long line, but individual words. We can make it a list."
   ]
  },
  {
   "cell_type": "code",
   "execution_count": 8,
   "metadata": {
    "collapsed": false
   },
   "outputs": [
    {
     "name": "stdout",
     "output_type": "stream",
     "text": [
      "Try #1: [\"It\", \"was\", \"a\", \"dark\", \"and\", \"stormy\", \"night.\"]\n"
     ]
    }
   ],
   "source": [
    "story = \"It was a dark  and stormy night.\"\n",
    "## We want to get each word. We could do it the hard way...\n",
    "storywords = [ 'It', 'was', 'a', 'dark', 'and', 'stormy', 'night.' ]\n",
    "print(\"Try #1:\", json.dumps( storywords ))"
   ]
  },
  {
   "cell_type": "markdown",
   "metadata": {},
   "source": [
    "But why do we learn Python if not to make things easy for ourselves?\n",
    "Let's make the same list, the easy way - splitting up the story according to the spaces."
   ]
  },
  {
   "cell_type": "code",
   "execution_count": 9,
   "metadata": {
    "collapsed": false
   },
   "outputs": [
    {
     "name": "stdout",
     "output_type": "stream",
     "text": [
      "['It', 'was', 'a', 'dark', 'and', 'stormy', 'night.']\n",
      "Try #2: [\"It\", \"was\", \"a\", \"dark\", \"and\", \"stormy\", \"night.\"]\n"
     ]
    }
   ],
   "source": [
    "storywords = story.split()\n",
    "print(storywords)\n",
    "print(\"Try #2:\", json.dumps( storywords ))"
   ]
  },
  {
   "cell_type": "code",
   "execution_count": 10,
   "metadata": {
    "collapsed": false
   },
   "outputs": [
    {
     "data": {
      "text/plain": [
       "['johndoe', 'John Doe', 'PASSWORD', '/home/johndoe']"
      ]
     },
     "execution_count": 10,
     "metadata": {},
     "output_type": "execute_result"
    }
   ],
   "source": [
    "record = 'johndoe:John Doe:PASSWORD:/home/johndoe'\n",
    "record.split(':')"
   ]
  },
  {
   "cell_type": "markdown",
   "metadata": {},
   "source": [
    "Notice the JSON rules for a list:\n",
    "\n",
    "* It is surrounded by [] (square brackets).\n",
    "* Its elements (which can be any object, simple or complex) are separated by commas.\n",
    "\n",
    "And so now we can send a list to someone, and they can send a list to us. We convert JSON back into data with the `.loads()` method. This is important - JSON itself is just a character string, and doesn't become a list until we load it!"
   ]
  },
  {
   "cell_type": "code",
   "execution_count": 11,
   "metadata": {
    "collapsed": false
   },
   "outputs": [
    {
     "name": "stdout",
     "output_type": "stream",
     "text": [
      "Second word is \"\n"
     ]
    }
   ],
   "source": [
    "json_string_from_elsewhere = '[\"So\", \"long\", \"and\", \"thanks\", \"for\", \"all\", \"the\", \"fish.\"]'\n",
    "print(\"Second word is\", json_string_from_elsewhere[1])"
   ]
  },
  {
   "cell_type": "markdown",
   "metadata": {},
   "source": [
    "See? You might have expected the second element in the list, but instead you got the second character in the string. Let's try that again after loading the string."
   ]
  },
  {
   "cell_type": "code",
   "execution_count": 12,
   "metadata": {
    "collapsed": false
   },
   "outputs": [
    {
     "name": "stdout",
     "output_type": "stream",
     "text": [
      "Second word is long\n"
     ]
    }
   ],
   "source": [
    "wordlist = json.loads( json_string_from_elsewhere )\n",
    "print(\"Second word is\", wordlist[1])"
   ]
  },
  {
   "cell_type": "markdown",
   "metadata": {},
   "source": [
    "But we might even want to describe something even more complex - like the fact that each thing in the list is a \"word\", and maybe even the word number. Sure, we can figure that out by looking at the list and using our common sense, but computers don't have common sense, and maybe later we will want to do something with the words that involves mixing up their order.\n",
    "\n",
    "So for each word, let's make a little dictionary to say that the \"word\" is whatever the word is, and the \"sequence\" shows the order of the words. If we felt like it we could add more information like the word's root form, or whether it had punctuation before or after, or anything we like."
   ]
  },
  {
   "cell_type": "code",
   "execution_count": 13,
   "metadata": {
    "collapsed": false
   },
   "outputs": [
    {
     "name": "stdout",
     "output_type": "stream",
     "text": [
      "[{'sequence': 1, 'word': 'It'}, {'sequence': 2, 'word': 'was'}, {'sequence': 3, 'word': 'a'}, {'sequence': 4, 'word': 'dark'}, {'sequence': 5, 'word': 'and'}, {'sequence': 6, 'word': 'stormy'}, {'sequence': 7, 'word': 'night.'}]\n",
      "[{\"sequence\": 1, \"word\": \"It\"}, {\"sequence\": 2, \"word\": \"was\"}, {\"sequence\": 3, \"word\": \"a\"}, {\"sequence\": 4, \"word\": \"dark\"}, {\"sequence\": 5, \"word\": \"and\"}, {\"sequence\": 6, \"word\": \"stormy\"}, {\"sequence\": 7, \"word\": \"night.\"}]\n"
     ]
    }
   ],
   "source": [
    "storywords = []\n",
    "counter = 1\n",
    "for w in story.split():\n",
    "    wordinfo = { 'word': w, 'sequence': counter }\n",
    "    storywords.append( wordinfo )\n",
    "    counter += 1\n",
    "print(storywords)\n",
    "print(json.dumps( storywords ))"
   ]
  },
  {
   "cell_type": "markdown",
   "metadata": {},
   "source": [
    "Okay! The rules for dictionary objects are slightly more complex:\n",
    "\n",
    "* Each dictionary is surrounded by {} (curly quotes).\n",
    "* The dictionary has a set of *keys* and a set of *values*. \n",
    "* Each *key* must be a string (i.e. a simple JSON object that goes into double quotes).\n",
    "* Each *value* can be any object, simple or complex.\n",
    "\n",
    "So what we have here is a **list** of **dictionaries** - each dictionary has a 'word' and a 'sequence'.\n",
    "\n",
    "By now you'll also have noticed that these JSON concepts, and the way JSON writes them out, are pretty similar to what you've learned about how to make strings and lists and dictionaries in Python! This is no accident. What it means is that you can put your data into Python, and then use `json.dumps()` to *serialize* it (that is, get it in a form that can be sent to someone else) and then, when you get data back from them, you can use `json.loads` to read it again. \n",
    "\n",
    "But then, you ask, why not just use the plain old Python objects and send *those* around? Answer: because not everyone uses Python to program - in a minute we are going to talk to a server that is written in Java! Second answer: because one of the rules of programming is that the objects you make within your program cannot be directly sent outside your program. Your program's objects are the direct thoughts and pictures in its brain, and other programs can't simply read your program's mind - they have to communicate by speaking words or drawing pictures that can be passed around.\n",
    "\n",
    "Why `dumps` and `loads`? It's a common metaphor. I carry around a bunch of information and then dump it in someone else's lap; that person loads it into his or her wheelbarrow (program) and carries it somewhere else."
   ]
  },
  {
   "cell_type": "markdown",
   "metadata": {},
   "source": [
    "JSON for Text Collation\n",
    "-----------------------\n",
    "\n",
    "We have a collation program that will take a set of *variants* of a text and align them, giving us a result that shows where the texts differ and where they are the same. This is a very important thing to do if you are working on philology, or a critical edition of a text.\n",
    "\n",
    "The collation program accepts JSON input that tells it what the *witnesses* are (that is, the different text variants) and returns an answer with the witnesses all aligned. We can try it out! There are two ways to do this, and the first is pretty straightforward, so that's what we will use. It wants a dictionary with the key *witnesses*, whose value is a list of dictionaries. Each dictionary (that is, each witness) has an *id* and some *content*.\n",
    "\n",
    "    { \"witnesses\": [ { \"id\": \"A\", \"content\": \"This is the first text\" }, { \"id\": \"B\", \"content\": \"This is the second text\" } ] }\n",
    "    \n",
    "Let's build that up in Python!"
   ]
  },
  {
   "cell_type": "code",
   "execution_count": 14,
   "metadata": {
    "collapsed": false
   },
   "outputs": [
    {
     "name": "stdout",
     "output_type": "stream",
     "text": [
      "{\"witnesses\": [{\"content\": \"Du kennst von Alters her meine Art, mich anzubauen, irgend mir an einem vertraulichen Orte ein H\\u00fcttchen aufzuschlagen, und da mit aller Einschr\\u00e4nkung zu herbergen.\", \"id\": \"M\\u00fc375\"}, {\"content\": \"Du kennst von Altersher meine Art, mich anzubauen, mir irgend an einem vertraulichen Ort ein H\\u00fcttchen aufzuschlagen, und da mit aller Einschr\\u00e4nkung zu herbergen.\", \"id\": \"V887\"}, {\"content\": \"Du kennst von Altersher meine Art, mich anzubauen, irgend an einem vertraulichen Ort ein H\\u00fcttchen aufzuschlagen, und da zu herbergen.\", \"id\": \"Oxford\"}]}\n"
     ]
    }
   ],
   "source": [
    "first_witness  = \"Du kennst von Alters her meine Art, mich anzubauen, irgend mir an einem vertraulichen Orte ein Hüttchen aufzuschlagen, und da mit aller Einschränkung zu herbergen.\"\n",
    "second_witness = \"Du kennst von Altersher meine Art, mich anzubauen, mir irgend an einem vertraulichen Ort ein Hüttchen aufzuschlagen, und da mit aller Einschränkung zu herbergen.\"\n",
    "third_witness  = \"Du kennst von Altersher meine Art, mich anzubauen, irgend an einem vertraulichen Ort ein Hüttchen aufzuschlagen, und da zu herbergen.\"\n",
    "\n",
    "witnesses = []\n",
    "witnesses.append( { \"id\": \"Mü375\", \"content\": first_witness  } )\n",
    "witnesses.append( { \"id\": \"V887\", \"content\": second_witness } )\n",
    "witnesses.append( { \"id\": \"Oxford\", \"content\": third_witness  } )\n",
    "collation_input = { \"witnesses\": witnesses }\n",
    "\n",
    "print(json.dumps( collation_input ))"
   ]
  },
  {
   "cell_type": "markdown",
   "metadata": {},
   "source": [
    "(Did you notice how the \"content\" and \"id\" got swapped around from the order in which we wrote them? This is an important difference between dictionaries and lists - for dictionaries, it doesn't matter what order the information comes in!)\n",
    "\n",
    "Now we can send that to the collator and get an answer back. It will assume that words are separated by spaces.\n",
    "\n",
    "But before we do that, we need to tell the collation program a few extra things:"
   ]
  },
  {
   "cell_type": "code",
   "execution_count": 15,
   "metadata": {
    "collapsed": false
   },
   "outputs": [
    {
     "name": "stdout",
     "output_type": "stream",
     "text": [
      "{\"algorithm\": \"dekker\", \"tokenComparator\": {\"type\": \"equality\"}, \"witnesses\": [{\"content\": \"Du kennst von Alters her meine Art, mich anzubauen, irgend mir an einem vertraulichen Orte ein H\\u00fcttchen aufzuschlagen, und da mit aller Einschr\\u00e4nkung zu herbergen.\", \"id\": \"M\\u00fc375\"}, {\"content\": \"Du kennst von Altersher meine Art, mich anzubauen, mir irgend an einem vertraulichen Ort ein H\\u00fcttchen aufzuschlagen, und da mit aller Einschr\\u00e4nkung zu herbergen.\", \"id\": \"V887\"}, {\"content\": \"Du kennst von Altersher meine Art, mich anzubauen, irgend an einem vertraulichen Ort ein H\\u00fcttchen aufzuschlagen, und da zu herbergen.\", \"id\": \"Oxford\"}]}\n"
     ]
    }
   ],
   "source": [
    "collation_input['tokenComparator'] = {'type':'equality'}\n",
    "collation_input['algorithm'] = 'dekker'\n",
    "print(json.dumps(collation_input))"
   ]
  },
  {
   "cell_type": "markdown",
   "metadata": {},
   "source": [
    "Hang onto your hats - we are going to use the `requests` module, which lets us send JSON to a program running on someone else's webserver, and get an answer back. Don't worry too much about the details at this point - just know that this is possible, and it is the sort of thing that JSON was invented for. We have our data structure (that is, our witnesses and their content) and we have *serialized* them into a JSON string so that we can send them away to the webserver, and we'll get a different JSON string back that we can *deserialize* into collation data."
   ]
  },
  {
   "cell_type": "code",
   "execution_count": 16,
   "metadata": {
    "collapsed": false
   },
   "outputs": [
    {
     "name": "stdout",
     "output_type": "stream",
     "text": [
      "{'table': [[['Du ', 'kennst ', 'von '], ['Du ', 'kennst ', 'von '], ['Du ', 'kennst ', 'von ']], [['Alters ', 'her '], ['Altersher '], ['Altersher ']], [['meine ', 'Art', ', ', 'mich ', 'anzubauen', ', '], ['meine ', 'Art', ', ', 'mich ', 'anzubauen', ', '], ['meine ', 'Art', ', ', 'mich ', 'anzubauen', ', ']], [[], [], ['mir ']], [['irgend '], ['irgend '], ['irgend ']], [['mir '], [], []], [['an ', 'einem ', 'vertraulichen '], ['an ', 'einem ', 'vertraulichen '], ['an ', 'einem ', 'vertraulichen ']], [['Orte '], ['Ort '], ['Ort ']], [['ein ', 'Hüttchen ', 'aufzuschlagen', ', ', 'und ', 'da '], ['ein ', 'Hüttchen ', 'aufzuschlagen', ', ', 'und ', 'da '], ['ein ', 'Hüttchen ', 'aufzuschlagen', ', ', 'und ', 'da ']], [['mit ', 'aller ', 'Einschränkung '], [], ['mit ', 'aller ', 'Einschränkung ']], [['zu ', 'herbergen', '.'], ['zu ', 'herbergen', '.'], ['zu ', 'herbergen', '.']]], 'witnesses': ['Mü375', 'Oxford', 'V887']}\n"
     ]
    }
   ],
   "source": [
    "import requests\n",
    "\n",
    "url = 'http://collatex.net/demo/collate'\n",
    "collation_headers = { 'Accept' : 'application/json' }\n",
    "\n",
    "webrequest = requests.post(url, json=collation_input, headers=collation_headers)\n",
    "collation = webrequest.json()\n",
    "print(collation)\n"
   ]
  },
  {
   "cell_type": "markdown",
   "metadata": {},
   "source": [
    "So what have we here? A dictionary object with two keys, 'witnesses' and 'table'. The table is a list of lists - each row in the table becomes a list reading left to right, and the table itself is the list of rows. In this case, each table cell is itself a list of words. So it's a slightly more complex table than usual...\n",
    "\n",
    "In this case, the 'witnesses' key is really the first row of our collation table - a list of our witness IDs in the order they appear in the rest of the table rows. Let's print out the table as HTML. For this we will make use of IPython's ability to spit out HTML, and we will make it so that each witness takes up a row. You don't have to pay too much attention to how this is done if you don't know HTML, but it lets you see how we can format, slice, dice, and rearrange data."
   ]
  },
  {
   "cell_type": "code",
   "execution_count": 17,
   "metadata": {
    "collapsed": false
   },
   "outputs": [
    {
     "name": "stdout",
     "output_type": "stream",
     "text": [
      "This is the plain HTML that we get from our code above.\n",
      "<table><tr><th>Mü375</th><td>Du  kennst  von </td><td>Alters  her </td><td>meine  Art ,  mich  anzubauen , </td><td></td><td>irgend </td><td>mir </td><td>an  einem  vertraulichen </td><td>Orte </td><td>ein  Hüttchen  aufzuschlagen ,  und  da </td><td>mit  aller  Einschränkung </td><td>zu  herbergen .</td></tr><tr><th>Oxford</th><td>Du  kennst  von </td><td>Altersher </td><td>meine  Art ,  mich  anzubauen , </td><td></td><td>irgend </td><td></td><td>an  einem  vertraulichen </td><td>Ort </td><td>ein  Hüttchen  aufzuschlagen ,  und  da </td><td></td><td>zu  herbergen .</td></tr><tr><th>V887</th><td>Du  kennst  von </td><td>Altersher </td><td>meine  Art ,  mich  anzubauen , </td><td>mir </td><td>irgend </td><td></td><td>an  einem  vertraulichen </td><td>Ort </td><td>ein  Hüttchen  aufzuschlagen ,  und  da </td><td>mit  aller  Einschränkung </td><td>zu  herbergen .</td></tr></table>\n",
      "\n",
      "And this is what that HTML turns into in a web browser.\n"
     ]
    },
    {
     "data": {
      "text/html": [
       "<table><tr><th>Mü375</th><td>Du  kennst  von </td><td>Alters  her </td><td>meine  Art ,  mich  anzubauen , </td><td></td><td>irgend </td><td>mir </td><td>an  einem  vertraulichen </td><td>Orte </td><td>ein  Hüttchen  aufzuschlagen ,  und  da </td><td>mit  aller  Einschränkung </td><td>zu  herbergen .</td></tr><tr><th>Oxford</th><td>Du  kennst  von </td><td>Altersher </td><td>meine  Art ,  mich  anzubauen , </td><td></td><td>irgend </td><td></td><td>an  einem  vertraulichen </td><td>Ort </td><td>ein  Hüttchen  aufzuschlagen ,  und  da </td><td></td><td>zu  herbergen .</td></tr><tr><th>V887</th><td>Du  kennst  von </td><td>Altersher </td><td>meine  Art ,  mich  anzubauen , </td><td>mir </td><td>irgend </td><td></td><td>an  einem  vertraulichen </td><td>Ort </td><td>ein  Hüttchen  aufzuschlagen ,  und  da </td><td>mit  aller  Einschränkung </td><td>zu  herbergen .</td></tr></table>"
      ],
      "text/plain": [
       "<IPython.core.display.HTML object>"
      ]
     },
     "execution_count": 17,
     "metadata": {},
     "output_type": "execute_result"
    }
   ],
   "source": [
    "from IPython.core.display import HTML\n",
    "\n",
    "witness_rows = []\n",
    "\n",
    "# Start the rows with the witness IDs as headers\n",
    "for witness in collation['witnesses']:\n",
    "    row_html = '<th>%s</th>' % witness\n",
    "    witness_rows.append( row_html )\n",
    "\n",
    "# Now for each set of matching words in the collation, add them to their\n",
    "# respective witness rows\n",
    "for row in collation['table']:\n",
    "    for index, cell in enumerate( row ):\n",
    "        cell_html = '<td>%s</td>' % ' '.join( cell )\n",
    "        witness_rows[index] += cell_html\n",
    "    \n",
    "# Make the table with all the rows\n",
    "collation_table = '<table>'\n",
    "for html_row in witness_rows:\n",
    "    collation_table += '<tr>%s</tr>' % html_row\n",
    "collation_table += '</table>'\n",
    "\n",
    "# Display it\n",
    "print(\"This is the plain HTML that we get from our code above.\")\n",
    "print(collation_table)   # This is what the HTML looks like. Pointy, eh?\n",
    "\n",
    "## Do NOT try this line in PyCharm! It only works in this IPython notebook.\n",
    "print(\"\\nAnd this is what that HTML turns into in a web browser.\")\n",
    "HTML(collation_table)    # This is what the browser does with all those pointy brackets"
   ]
  },
  {
   "cell_type": "markdown",
   "metadata": {},
   "source": [
    "Great! We took our data and made JSON out of it, and then we sent it over the Internet to a collation service called CollateX and received JSON back. And now we have a collation table that we constructed from the JSON that we got. Victory!\n",
    "\n"
   ]
  }
 ],
 "metadata": {
  "kernelspec": {
   "display_name": "Python 3",
   "language": "python",
   "name": "python3"
  },
  "language_info": {
   "codemirror_mode": {
    "name": "ipython",
    "version": 3
   },
   "file_extension": ".py",
   "mimetype": "text/x-python",
   "name": "python",
   "nbconvert_exporter": "python",
   "pygments_lexer": "ipython3",
   "version": "3.5.1"
  }
 },
 "nbformat": 4,
 "nbformat_minor": 0
}
