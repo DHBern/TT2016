{
 "cells": [
  {
   "cell_type": "markdown",
   "metadata": {},
   "source": [
    "Graphs and visualization\n",
    "========================\n",
    "\n",
    "A lot of the joy of digital humanities comes in handling our material in new ways, so that we see things we wouldn't have seen before. Quite literally.\n",
    "\n",
    "Some of the most useful tools for DH work are graphing tools! Today we will look at the basics of what a graph is and how you might build one, both manually and programmatically, and then name the tools to look into if you want to know more.\n",
    "\n",
    "Tools you'll need\n",
    "-----------------\n",
    "\n",
    "* Graphviz: http://www.graphviz.org\n",
    "* The graphviz and sphinx modules for Python, which you can install from iPython like this. **You only have to do this once!**\n"
   ]
  },
  {
   "cell_type": "code",
   "execution_count": 1,
   "metadata": {
    "collapsed": false
   },
   "outputs": [
    {
     "name": "stdout",
     "output_type": "stream",
     "text": [
      "Requirement already satisfied (use --upgrade to upgrade): graphviz in /Users/tla/anaconda/lib/python3.5/site-packages\n",
      "Requirement already satisfied (use --upgrade to upgrade): sphinx in /Users/tla/anaconda/lib/python3.5/site-packages/Sphinx-1.3.5-py3.5.egg\n",
      "Requirement already satisfied (use --upgrade to upgrade): six>=1.4 in /Users/tla/anaconda/lib/python3.5/site-packages (from sphinx)\n",
      "Requirement already satisfied (use --upgrade to upgrade): Jinja2>=2.3 in /Users/tla/anaconda/lib/python3.5/site-packages (from sphinx)\n",
      "Requirement already satisfied (use --upgrade to upgrade): Pygments>=2.0 in /Users/tla/anaconda/lib/python3.5/site-packages (from sphinx)\n",
      "Requirement already satisfied (use --upgrade to upgrade): docutils>=0.11 in /Users/tla/anaconda/lib/python3.5/site-packages (from sphinx)\n",
      "Requirement already satisfied (use --upgrade to upgrade): snowballstemmer>=1.1 in /Users/tla/anaconda/lib/python3.5/site-packages (from sphinx)\n",
      "Requirement already satisfied (use --upgrade to upgrade): babel!=2.0,>=1.3 in /Users/tla/anaconda/lib/python3.5/site-packages (from sphinx)\n",
      "Requirement already satisfied (use --upgrade to upgrade): alabaster<0.8,>=0.7 in /Users/tla/anaconda/lib/python3.5/site-packages (from sphinx)\n",
      "Requirement already satisfied (use --upgrade to upgrade): sphinx-rtd-theme<2.0,>=0.1 in /Users/tla/anaconda/lib/python3.5/site-packages (from sphinx)\n",
      "Requirement already satisfied (use --upgrade to upgrade): MarkupSafe in /Users/tla/anaconda/lib/python3.5/site-packages (from Jinja2>=2.3->sphinx)\n",
      "Requirement already satisfied (use --upgrade to upgrade): pytz>=0a in /Users/tla/anaconda/lib/python3.5/site-packages (from babel!=2.0,>=1.3->sphinx)\n",
      "\u001b[33mYou are using pip version 8.1.0, however version 8.1.1 is available.\n",
      "You should consider upgrading via the 'pip install --upgrade pip' command.\u001b[0m\n"
     ]
    }
   ],
   "source": [
    "!pip install graphviz sphinx"
   ]
  },
  {
   "cell_type": "markdown",
   "metadata": {},
   "source": [
    "So what can you do with graphs?\n",
    "\n",
    "<img src=\"https://i.embed.ly/1/display/resize?key=1e6a1a1efdb011df84894040444cdc60&url=http%3A%2F%2Fpbs.twimg.com%2Fmedia%2FBslvzfjIcAAW6Ro.png\">"
   ]
  },
  {
   "cell_type": "markdown",
   "metadata": {},
   "source": [
    "You can visualize relationships, networks, you name it.\n",
    "\n",
    "http://ckcc.huygens.knaw.nl/epistolarium/#\n",
    "\n",
    "\n",
    "The DOT graph language\n",
    "----------------------\n",
    "\n",
    "It's pretty easy to start building a graph, if you have the tools and a plain text editor. First you have to decide whether you want a *directed* or an *undirected* graph. If all the relationships you want to chart are symmetric and two-way (e.g. \"these words appear together\" or \"these people corresponded\", then it can be undirected. But if there is any asymmetry (e.g. in social networks - just because Tom is friends with Jane doesn't mean that Jane is friends with Tom!) then you want a directed graph.\n",
    "\n",
    "If you want to make a directed graph, it looks like this:\n",
    "\n",
    "    digraph \"My graph\" {\n",
    "        [... graph data goes here ...]\n",
    "    }\n",
    "    \n",
    "and if you want to make an undirected graph, it looks like this.\n",
    "\n",
    "    graph \"My graph\" {\n",
    "        [... graph data goes here ...]\n",
    "    }\n",
    "    \n",
    "Let's say we want to make that little two-person social network. In graph terms, you have *nodes* and *edges*. The edges are the relationships, and the nodes are the things (people, places, dogs, cats, whatever) that are related. The easiest way to express that is like this:\n",
    "\n",
    "    digraph \"My graph\" {\n",
    "        Tom -> Jane\n",
    "    }\n",
    "\n",
    "which says \"The node `Tom` is connected to the node `Jane`, in that direction.\" We plug that into Graphviz, and what do we get? Let's use a little iPython magic to find out.\n",
    "\n",
    "We are going to use an extension called 'hierarchymagic', which gives us the special `%%dot` command. You can install the extension like this. <br>**You only have to do this once!**\n",
    "\n",
    "You will get a warning that \"install_ext\" is deprecated; there isn't much we can do about this ourselves, so don't worry unduly about it."
   ]
  },
  {
   "cell_type": "code",
   "execution_count": 2,
   "metadata": {
    "collapsed": false
   },
   "outputs": [
    {
     "name": "stdout",
     "output_type": "stream",
     "text": [
      "Installed hierarchymagic.py. To use it, type:\n",
      "  %load_ext hierarchymagic\n"
     ]
    },
    {
     "name": "stderr",
     "output_type": "stream",
     "text": [
      "/Users/tla/anaconda/lib/python3.5/site-packages/IPython/core/magics/extension.py:47: UserWarning: %install_ext` is deprecated, please distribute your extension(s)as a python packages.\n",
      "  \"as a python packages.\", UserWarning)\n"
     ]
    }
   ],
   "source": [
    "%install_ext http://students.digihum.ch/hierarchymagic.py"
   ]
  },
  {
   "cell_type": "markdown",
   "metadata": {},
   "source": [
    "Now anytime you want to use graphs in IPython, this is how you do it."
   ]
  },
  {
   "cell_type": "code",
   "execution_count": 3,
   "metadata": {
    "collapsed": false
   },
   "outputs": [],
   "source": [
    "# This is how you get the %%dot command that we use below.\n",
    "%load_ext hierarchymagic  "
   ]
  },
  {
   "cell_type": "markdown",
   "metadata": {},
   "source": [
    "Then you do this every time you want to make a graph. The `-f svg` says that it should make an SVG image, which is what I recommend."
   ]
  },
  {
   "cell_type": "code",
   "execution_count": 4,
   "metadata": {
    "collapsed": false
   },
   "outputs": [
    {
     "data": {
      "image/svg+xml": [
       "<?xml version=\"1.0\" encoding=\"UTF-8\" standalone=\"no\"?>\n",
       "<!DOCTYPE svg PUBLIC \"-//W3C//DTD SVG 1.1//EN\"\n",
       " \"http://www.w3.org/Graphics/SVG/1.1/DTD/svg11.dtd\">\n",
       "<!-- Generated by graphviz version 2.39.20151021.1911 (20151021.1911)\n",
       " -->\n",
       "<!-- Title: My graph Pages: 1 -->\n",
       "<svg width=\"64pt\" height=\"116pt\"\n",
       " viewBox=\"0.00 0.00 63.90 116.00\" xmlns=\"http://www.w3.org/2000/svg\" xmlns:xlink=\"http://www.w3.org/1999/xlink\">\n",
       "<g id=\"graph0\" class=\"graph\" transform=\"scale(1 1) rotate(0) translate(4 112)\">\n",
       "<title>My graph</title>\n",
       "<polygon fill=\"white\" stroke=\"transparent\" points=\"-4,4 -4,-112 59.895,-112 59.895,4 -4,4\"/>\n",
       "<!-- Tom -->\n",
       "<g id=\"node1\" class=\"node\">\n",
       "<title>Tom</title>\n",
       "<ellipse fill=\"none\" stroke=\"black\" cx=\"27.9475\" cy=\"-90\" rx=\"27.8951\" ry=\"18\"/>\n",
       "<text text-anchor=\"middle\" x=\"27.9475\" y=\"-86.3\" font-family=\"Times,serif\" font-size=\"14.00\">Tom</text>\n",
       "</g>\n",
       "<!-- Jane -->\n",
       "<g id=\"node2\" class=\"node\">\n",
       "<title>Jane</title>\n",
       "<ellipse fill=\"none\" stroke=\"black\" cx=\"27.9475\" cy=\"-18\" rx=\"27\" ry=\"18\"/>\n",
       "<text text-anchor=\"middle\" x=\"27.9475\" y=\"-14.3\" font-family=\"Times,serif\" font-size=\"14.00\">Jane</text>\n",
       "</g>\n",
       "<!-- Tom&#45;&gt;Jane -->\n",
       "<g id=\"edge1\" class=\"edge\">\n",
       "<title>Tom&#45;&gt;Jane</title>\n",
       "<path fill=\"none\" stroke=\"black\" d=\"M27.9475,-71.8314C27.9475,-64.131 27.9475,-54.9743 27.9475,-46.4166\"/>\n",
       "<polygon fill=\"black\" stroke=\"black\" points=\"31.4476,-46.4132 27.9475,-36.4133 24.4476,-46.4133 31.4476,-46.4132\"/>\n",
       "</g>\n",
       "</g>\n",
       "</svg>\n"
      ]
     },
     "metadata": {},
     "output_type": "display_data"
    }
   ],
   "source": [
    "%%dot -f svg\n",
    "digraph \"My graph\" {\n",
    "    Tom -> Jane\n",
    "}"
   ]
  },
  {
   "cell_type": "markdown",
   "metadata": {},
   "source": [
    "Now maybe Tom has a friend too:\n",
    "\n",
    "    digraph \"My graph\" {\n",
    "        Tom -> Jane\n",
    "        Ben -> Tom\n",
    "        Tom -> Ben\n",
    "    }\n",
    "\n"
   ]
  },
  {
   "cell_type": "code",
   "execution_count": 5,
   "metadata": {
    "collapsed": false
   },
   "outputs": [
    {
     "data": {
      "image/svg+xml": [
       "<?xml version=\"1.0\" encoding=\"UTF-8\" standalone=\"no\"?>\n",
       "<!DOCTYPE svg PUBLIC \"-//W3C//DTD SVG 1.1//EN\"\n",
       " \"http://www.w3.org/Graphics/SVG/1.1/DTD/svg11.dtd\">\n",
       "<!-- Generated by graphviz version 2.39.20151021.1911 (20151021.1911)\n",
       " -->\n",
       "<!-- Title: My graph Pages: 1 -->\n",
       "<svg width=\"135pt\" height=\"116pt\"\n",
       " viewBox=\"0.00 0.00 134.95 116.00\" xmlns=\"http://www.w3.org/2000/svg\" xmlns:xlink=\"http://www.w3.org/1999/xlink\">\n",
       "<g id=\"graph0\" class=\"graph\" transform=\"scale(1 1) rotate(0) translate(4 112)\">\n",
       "<title>My graph</title>\n",
       "<polygon fill=\"white\" stroke=\"transparent\" points=\"-4,4 -4,-112 130.948,-112 130.948,4 -4,4\"/>\n",
       "<!-- Tom -->\n",
       "<g id=\"node1\" class=\"node\">\n",
       "<title>Tom</title>\n",
       "<ellipse fill=\"none\" stroke=\"black\" cx=\"99\" cy=\"-90\" rx=\"27.8951\" ry=\"18\"/>\n",
       "<text text-anchor=\"middle\" x=\"99\" y=\"-86.3\" font-family=\"Times,serif\" font-size=\"14.00\">Tom</text>\n",
       "</g>\n",
       "<!-- Jane -->\n",
       "<g id=\"node2\" class=\"node\">\n",
       "<title>Jane</title>\n",
       "<ellipse fill=\"none\" stroke=\"black\" cx=\"27\" cy=\"-18\" rx=\"27\" ry=\"18\"/>\n",
       "<text text-anchor=\"middle\" x=\"27\" y=\"-14.3\" font-family=\"Times,serif\" font-size=\"14.00\">Jane</text>\n",
       "</g>\n",
       "<!-- Tom&#45;&gt;Jane -->\n",
       "<g id=\"edge1\" class=\"edge\">\n",
       "<title>Tom&#45;&gt;Jane</title>\n",
       "<path fill=\"none\" stroke=\"black\" d=\"M83.7307,-74.7307C73.803,-64.803 60.6847,-51.6847 49.5637,-40.5637\"/>\n",
       "<polygon fill=\"black\" stroke=\"black\" points=\"51.7933,-37.8436 42.2473,-33.2473 46.8436,-42.7933 51.7933,-37.8436\"/>\n",
       "</g>\n",
       "<!-- Ben -->\n",
       "<g id=\"node3\" class=\"node\">\n",
       "<title>Ben</title>\n",
       "<ellipse fill=\"none\" stroke=\"black\" cx=\"99\" cy=\"-18\" rx=\"27\" ry=\"18\"/>\n",
       "<text text-anchor=\"middle\" x=\"99\" y=\"-14.3\" font-family=\"Times,serif\" font-size=\"14.00\">Ben</text>\n",
       "</g>\n",
       "<!-- Tom&#45;&gt;Ben -->\n",
       "<g id=\"edge3\" class=\"edge\">\n",
       "<title>Tom&#45;&gt;Ben</title>\n",
       "<path fill=\"none\" stroke=\"black\" d=\"M93.0843,-72.2022C92.2798,-64.1807 92.0571,-54.5231 92.4162,-45.5957\"/>\n",
       "<polygon fill=\"black\" stroke=\"black\" points=\"95.9097,-45.8099 93.105,-35.593 88.9262,-45.3289 95.9097,-45.8099\"/>\n",
       "</g>\n",
       "<!-- Ben&#45;&gt;Tom -->\n",
       "<g id=\"edge2\" class=\"edge\">\n",
       "<title>Ben&#45;&gt;Tom</title>\n",
       "<path fill=\"none\" stroke=\"black\" d=\"M104.895,-35.593C105.709,-43.5865 105.942,-53.2363 105.593,-62.1759\"/>\n",
       "<polygon fill=\"black\" stroke=\"black\" points=\"102.098,-61.9891 104.916,-72.2022 109.082,-62.4608 102.098,-61.9891\"/>\n",
       "</g>\n",
       "</g>\n",
       "</svg>\n"
      ]
     },
     "metadata": {},
     "output_type": "display_data"
    }
   ],
   "source": [
    "%%dot -f svg\n",
    "digraph \"My graph\" {\n",
    "    Tom -> Jane\n",
    "    Ben -> Tom\n",
    "    Tom -> Ben\n",
    "}"
   ]
  },
  {
   "cell_type": "markdown",
   "metadata": {},
   "source": [
    "...And so on. But what if we do want a nice symmetrical undirected graph? That is even simpler. Instead of `digraph` we say `graph`, and instead of describing the connections with `->` we use `--` instead. If we have a model like Facebook where friendship is always two-way, we can do this:\n",
    "\n",
    "    graph \"My graph\" {\n",
    "        Tom -- Jane\n",
    "        Ben -- Tom\n",
    "    }\n",
    "\n",
    "Note that we don't need the third line (`Tom -- Ben`) because it is now the same as saying `Ben -- Tom`.\n",
    "\n",
    "Since this is an undirected graph, we want it to be laid out a little differently (not just straight up-and-down.) For this we can specify a different program with this `-- -K` flag. The options are `dot` (the default), `neato`, `twopi`, `circo`, `fdp`, and `sfdp`; they all take different approaches and you are welcome to play around with each one."
   ]
  },
  {
   "cell_type": "code",
   "execution_count": 6,
   "metadata": {
    "collapsed": false
   },
   "outputs": [
    {
     "data": {
      "image/svg+xml": [
       "<?xml version=\"1.0\" encoding=\"UTF-8\" standalone=\"no\"?>\n",
       "<!DOCTYPE svg PUBLIC \"-//W3C//DTD SVG 1.1//EN\"\n",
       " \"http://www.w3.org/Graphics/SVG/1.1/DTD/svg11.dtd\">\n",
       "<!-- Generated by graphviz version 2.39.20151021.1911 (20151021.1911)\n",
       " -->\n",
       "<!-- Title: My graph Pages: 1 -->\n",
       "<svg width=\"130pt\" height=\"170pt\"\n",
       " viewBox=\"0.00 0.00 129.85 169.63\" xmlns=\"http://www.w3.org/2000/svg\" xmlns:xlink=\"http://www.w3.org/1999/xlink\">\n",
       "<g id=\"graph0\" class=\"graph\" transform=\"scale(1 1) rotate(0) translate(4 165.625)\">\n",
       "<title>My graph</title>\n",
       "<polygon fill=\"white\" stroke=\"transparent\" points=\"-4,4 -4,-165.625 125.852,-165.625 125.852,4 -4,4\"/>\n",
       "<!-- Tom -->\n",
       "<g id=\"node1\" class=\"node\">\n",
       "<title>Tom</title>\n",
       "<ellipse fill=\"none\" stroke=\"black\" cx=\"50.957\" cy=\"-86.2063\" rx=\"27.8951\" ry=\"18\"/>\n",
       "<text text-anchor=\"middle\" x=\"50.957\" y=\"-82.5063\" font-family=\"Times,serif\" font-size=\"14.00\">Tom</text>\n",
       "</g>\n",
       "<!-- Jane -->\n",
       "<g id=\"node2\" class=\"node\">\n",
       "<title>Jane</title>\n",
       "<ellipse fill=\"none\" stroke=\"black\" cx=\"94.8523\" cy=\"-143.625\" rx=\"27\" ry=\"18\"/>\n",
       "<text text-anchor=\"middle\" x=\"94.8523\" y=\"-139.925\" font-family=\"Times,serif\" font-size=\"14.00\">Jane</text>\n",
       "</g>\n",
       "<!-- Tom&#45;&#45;Jane -->\n",
       "<g id=\"edge1\" class=\"edge\">\n",
       "<title>Tom&#45;&#45;Jane</title>\n",
       "<path fill=\"none\" stroke=\"black\" d=\"M63.4182,-102.507C69.4,-110.331 76.5459,-119.679 82.5118,-127.483\"/>\n",
       "</g>\n",
       "<!-- Ben -->\n",
       "<g id=\"node3\" class=\"node\">\n",
       "<title>Ben</title>\n",
       "<ellipse fill=\"none\" stroke=\"black\" cx=\"27\" cy=\"-18\" rx=\"27\" ry=\"18\"/>\n",
       "<text text-anchor=\"middle\" x=\"27\" y=\"-14.3\" font-family=\"Times,serif\" font-size=\"14.00\">Ben</text>\n",
       "</g>\n",
       "<!-- Ben&#45;&#45;Tom -->\n",
       "<g id=\"edge2\" class=\"edge\">\n",
       "<title>Ben&#45;&#45;Tom</title>\n",
       "<path fill=\"none\" stroke=\"black\" d=\"M33.1695,-35.5648C36.7187,-45.6694 41.1655,-58.3297 44.7251,-68.464\"/>\n",
       "</g>\n",
       "</g>\n",
       "</svg>\n"
      ]
     },
     "metadata": {},
     "output_type": "display_data"
    }
   ],
   "source": [
    "%%dot -f svg\n",
    "graph \"My graph\" {\n",
    "    graph [layout=neato]\n",
    "    Tom -- Jane\n",
    "    Ben -- Tom\n",
    "}"
   ]
  },
  {
   "cell_type": "code",
   "execution_count": 7,
   "metadata": {
    "collapsed": false
   },
   "outputs": [
    {
     "data": {
      "image/svg+xml": [
       "<?xml version=\"1.0\" encoding=\"UTF-8\" standalone=\"no\"?>\n",
       "<!DOCTYPE svg PUBLIC \"-//W3C//DTD SVG 1.1//EN\"\n",
       " \"http://www.w3.org/Graphics/SVG/1.1/DTD/svg11.dtd\">\n",
       "<!-- Generated by graphviz version 2.39.20151021.1911 (20151021.1911)\n",
       " -->\n",
       "<!-- Title: My graph Pages: 1 -->\n",
       "<svg width=\"129pt\" height=\"131pt\"\n",
       " viewBox=\"0.00 0.00 129.00 131.00\" xmlns=\"http://www.w3.org/2000/svg\" xmlns:xlink=\"http://www.w3.org/1999/xlink\">\n",
       "<g id=\"graph0\" class=\"graph\" transform=\"scale(1 1) rotate(0) translate(4 127)\">\n",
       "<title>My graph</title>\n",
       "<polygon fill=\"white\" stroke=\"transparent\" points=\"-4,4 -4,-127 125,-127 125,4 -4,4\"/>\n",
       "<!-- Tom -->\n",
       "<g id=\"node1\" class=\"node\">\n",
       "<title>Tom</title>\n",
       "<ellipse fill=\"none\" stroke=\"black\" cx=\"27.5202\" cy=\"-68.7996\" rx=\"27.8951\" ry=\"18\"/>\n",
       "<text text-anchor=\"middle\" x=\"27.5202\" y=\"-65.0996\" font-family=\"Times,serif\" font-size=\"14.00\">Tom</text>\n",
       "</g>\n",
       "<!-- Jane -->\n",
       "<g id=\"node2\" class=\"node\">\n",
       "<title>Jane</title>\n",
       "<ellipse fill=\"none\" stroke=\"black\" cx=\"93.6592\" cy=\"-105.048\" rx=\"27\" ry=\"18\"/>\n",
       "<text text-anchor=\"middle\" x=\"93.6592\" y=\"-101.348\" font-family=\"Times,serif\" font-size=\"14.00\">Jane</text>\n",
       "</g>\n",
       "<!-- Tom&#45;&#45;Jane -->\n",
       "<g id=\"edge1\" class=\"edge\">\n",
       "<title>Tom&#45;&#45;Jane</title>\n",
       "<path fill=\"none\" stroke=\"black\" d=\"M48.8111,-80.4684C56.3636,-84.6077 64.859,-89.2638 72.4083,-93.4013\"/>\n",
       "</g>\n",
       "<!-- Ben -->\n",
       "<g id=\"node3\" class=\"node\">\n",
       "<title>Ben</title>\n",
       "<ellipse fill=\"none\" stroke=\"black\" cx=\"27.899\" cy=\"-17.8385\" rx=\"27\" ry=\"18\"/>\n",
       "<text text-anchor=\"middle\" x=\"27.899\" y=\"-14.1385\" font-family=\"Times,serif\" font-size=\"14.00\">Ben</text>\n",
       "</g>\n",
       "<!-- Ben&#45;&#45;Tom -->\n",
       "<g id=\"edge2\" class=\"edge\">\n",
       "<title>Ben&#45;&#45;Tom</title>\n",
       "<path fill=\"none\" stroke=\"black\" d=\"M27.7644,-35.949C27.7287,-40.7552 27.6901,-45.9443 27.6544,-50.7475\"/>\n",
       "</g>\n",
       "</g>\n",
       "</svg>\n"
      ]
     },
     "metadata": {},
     "output_type": "display_data"
    }
   ],
   "source": [
    "%%dot -f svg\n",
    "graph \"My graph\" {\n",
    "    layout=fdp\n",
    "    Tom -- Jane\n",
    "    Ben -- Tom\n",
    "}"
   ]
  },
  {
   "cell_type": "markdown",
   "metadata": {},
   "source": [
    "You can change the font, the shape of the nodes, the colors of the links, and so on by setting attributes in square brackets. Attributes can be set for the graph, for all nodes, for all edges, and for individual nodes and edges. All the different attribute options can be read about [here](http://www.graphviz.org/doc/info/attrs.html)."
   ]
  },
  {
   "cell_type": "code",
   "execution_count": 8,
   "metadata": {
    "collapsed": false
   },
   "outputs": [
    {
     "data": {
      "image/svg+xml": [
       "<?xml version=\"1.0\" encoding=\"UTF-8\" standalone=\"no\"?>\n",
       "<!DOCTYPE svg PUBLIC \"-//W3C//DTD SVG 1.1//EN\"\n",
       " \"http://www.w3.org/Graphics/SVG/1.1/DTD/svg11.dtd\">\n",
       "<!-- Generated by graphviz version 2.39.20151021.1911 (20151021.1911)\n",
       " -->\n",
       "<!-- Title: My pretty graph Pages: 1 -->\n",
       "<svg width=\"103pt\" height=\"149pt\"\n",
       " viewBox=\"0.00 0.00 102.85 148.63\" xmlns=\"http://www.w3.org/2000/svg\" xmlns:xlink=\"http://www.w3.org/1999/xlink\">\n",
       "<g id=\"graph0\" class=\"graph\" transform=\"scale(1 1) rotate(0) translate(4 144.625)\">\n",
       "<title>My pretty graph</title>\n",
       "<polygon fill=\"black\" stroke=\"transparent\" points=\"-4,4 -4,-144.625 98.8523,-144.625 98.8523,4 -4,4\"/>\n",
       "<!-- Jane -->\n",
       "<g id=\"node1\" class=\"node\">\n",
       "<title>Jane</title>\n",
       "<text text-anchor=\"middle\" x=\"36.457\" y=\"-72.0063\" font-family=\"Helvetica,sans-Serif\" font-size=\"14.00\" fill=\"red\">Jane</text>\n",
       "</g>\n",
       "<!-- Ben -->\n",
       "<g id=\"node3\" class=\"node\">\n",
       "<title>Ben</title>\n",
       "<text text-anchor=\"middle\" x=\"12.5\" y=\"-3.8\" font-family=\"Helvetica,sans-Serif\" font-size=\"14.00\" fill=\"white\">Ben</text>\n",
       "</g>\n",
       "<!-- Jane&#45;&#45;Ben -->\n",
       "<g id=\"edge2\" class=\"edge\">\n",
       "<title>Jane&#45;&#45;Ben</title>\n",
       "<path fill=\"none\" stroke=\"green\" d=\"M33.8017,-68.1465C29.221,-55.1052 19.8801,-28.5112 15.2409,-15.3034\"/>\n",
       "</g>\n",
       "<!-- Tom -->\n",
       "<g id=\"node2\" class=\"node\">\n",
       "<title>Tom</title>\n",
       "<text text-anchor=\"middle\" x=\"80.3523\" y=\"-129.425\" font-family=\"Helvetica,sans-Serif\" font-size=\"14.00\" fill=\"white\">Tom</text>\n",
       "</g>\n",
       "<!-- Tom&#45;&#45;Jane -->\n",
       "<g id=\"edge1\" class=\"edge\">\n",
       "<title>Tom&#45;&#45;Jane</title>\n",
       "<path fill=\"none\" stroke=\"green\" d=\"M74.6137,-125.619C66.2477,-114.675 50.7823,-94.4452 42.3371,-83.398\"/>\n",
       "</g>\n",
       "</g>\n",
       "</svg>\n"
      ]
     },
     "metadata": {},
     "output_type": "display_data"
    }
   ],
   "source": [
    "%%dot -f svg\n",
    "graph \"My pretty graph\" {\n",
    "    graph [layout=neato, bgcolor=black]\n",
    "    node [shape=plain, fontcolor=white, fontname=Helvetica]\n",
    "    Jane [fontcolor=red]\n",
    "    Tom -- Jane [color=green]\n",
    "    Jane -- Ben [color=green]    \n",
    "}"
   ]
  },
  {
   "cell_type": "markdown",
   "metadata": {},
   "source": [
    "Of course, this would hardly be fun if we couldn't do it programmatically!\n",
    "\n",
    "Building graphs with Graphviz + Python\n",
    "--------------------------------------\n",
    "\n",
    "Now we are going to make a few graphs, not by writing out dot, but by making a *graph object* that holds our nodes and edges. We do this with the `graphviz` module. "
   ]
  },
  {
   "cell_type": "code",
   "execution_count": 9,
   "metadata": {
    "collapsed": false
   },
   "outputs": [],
   "source": [
    "import graphviz     # Use the Python graphviz library"
   ]
  },
  {
   "cell_type": "markdown",
   "metadata": {},
   "source": [
    "We make a new directed graph with `graphviz.Digraph()`, and a new undirected graph with `graphviz.Graph()`."
   ]
  },
  {
   "cell_type": "code",
   "execution_count": 10,
   "metadata": {
    "collapsed": false
   },
   "outputs": [],
   "source": [
    "my_graph = graphviz.Digraph()"
   ]
  },
  {
   "cell_type": "markdown",
   "metadata": {},
   "source": [
    "Let's make a social network graph of five friends, all of whom like each other. But instead of typing out all those\n",
    "\n",
    "    Anna -> Ben\n",
    "    \n",
    "sorts of lines, we will let the program do that for us."
   ]
  },
  {
   "cell_type": "code",
   "execution_count": 11,
   "metadata": {
    "collapsed": false
   },
   "outputs": [
    {
     "name": "stdout",
     "output_type": "stream",
     "text": [
      "digraph {\n",
      "\t\tCharlotte -> Jane\n",
      "\t\tJane -> Charlotte\n",
      "\t\tCharlotte -> Ben\n",
      "\t\tBen -> Charlotte\n",
      "\t\tCharlotte -> Tom\n",
      "\t\tTom -> Charlotte\n",
      "\t\tCharlotte -> Anna\n",
      "\t\tAnna -> Charlotte\n",
      "\t\tAnna -> Jane\n",
      "\t\tJane -> Anna\n",
      "\t\tAnna -> Ben\n",
      "\t\tBen -> Anna\n",
      "\t\tAnna -> Tom\n",
      "\t\tTom -> Anna\n",
      "\t\tTom -> Jane\n",
      "\t\tJane -> Tom\n",
      "\t\tTom -> Ben\n",
      "\t\tBen -> Tom\n",
      "\t\tBen -> Jane\n",
      "\t\tJane -> Ben\n",
      "}\n"
     ]
    }
   ],
   "source": [
    "# Our list of friends\n",
    "all_friends = [ 'Jane', 'Ben', 'Tom', 'Anna', 'Charlotte' ]\n",
    "\n",
    "# Make them all friends with each other.\n",
    "# As long as there are at least two people left in the list of friends...\n",
    "while len( all_friends ) > 1:\n",
    "    this_friend = all_friends.pop() # Remove the last name from the list\n",
    "    for friend in all_friends:      # Cycle through whoever is left and make them friends with each other\n",
    "        my_graph.edge( this_friend, friend )  # I like you\n",
    "        my_graph.edge( friend, this_friend )  # You like me\n",
    "\n",
    "# Spit out the graph in its DOT format\n",
    "print(my_graph.source)"
   ]
  },
  {
   "cell_type": "markdown",
   "metadata": {},
   "source": [
    "And here is a little iPython magic function so that we can actually make the graph display right here in the notebook. This means that, instead of copy-pasting what you see above into a new cell, you can just ask IPython to do the copy-pasting for you! \n",
    "\n",
    "Don't worry too much about understanding this (unless you want to!) but we will use it a little farther down. You can ignore the lines about \"Couldn't evaluate or find in history\" - that seems to be a little IPython bug!"
   ]
  },
  {
   "cell_type": "code",
   "execution_count": 12,
   "metadata": {
    "collapsed": false
   },
   "outputs": [
    {
     "name": "stdout",
     "output_type": "stream",
     "text": [
      "Couldn't evaluate or find in history: make_dotcell( my_graph )\n"
     ]
    }
   ],
   "source": [
    "## Here is the function we need\n",
    "def make_dotcell( thegraph, format=\"svg\" ):\n",
    "    cell_content = \"%%dot \" + \"-f %s\\n%s\" % (format, thegraph.source)\n",
    "    return cell_content\n",
    "\n",
    "## ...and here is how to use it. This will make a new cell that you can then 'play' to get the graph.\n",
    "%recall make_dotcell( my_graph )"
   ]
  },
  {
   "cell_type": "code",
   "execution_count": null,
   "metadata": {
    "collapsed": true
   },
   "outputs": [],
   "source": [
    "%%dot -f svg\n",
    "digraph {\n",
    "\t\tCharlotte -> Jane\n",
    "\t\tJane -> Charlotte\n",
    "\t\tCharlotte -> Ben\n",
    "\t\tBen -> Charlotte\n",
    "\t\tCharlotte -> Tom\n",
    "\t\tTom -> Charlotte\n",
    "\t\tCharlotte -> Anna\n",
    "\t\tAnna -> Charlotte\n",
    "\t\tAnna -> Jane\n",
    "\t\tJane -> Anna\n",
    "\t\tAnna -> Ben\n",
    "\t\tBen -> Anna\n",
    "\t\tAnna -> Tom\n",
    "\t\tTom -> Anna\n",
    "\t\tTom -> Jane\n",
    "\t\tJane -> Tom\n",
    "\t\tTom -> Ben\n",
    "\t\tBen -> Tom\n",
    "\t\tBen -> Jane\n",
    "\t\tJane -> Ben\n",
    "}"
   ]
  },
  {
   "cell_type": "markdown",
   "metadata": {},
   "source": [
    "Basic usage for the Graphviz python library\n",
    "-------------------------------------------\n",
    "\n",
    "So here is a short summary of what we did above that you will want to remember:"
   ]
  },
  {
   "cell_type": "code",
   "execution_count": 13,
   "metadata": {
    "collapsed": false
   },
   "outputs": [
    {
     "name": "stdout",
     "output_type": "stream",
     "text": [
      "digraph {\n",
      "\t\tme -> you\n",
      "}\n",
      "graph {\n",
      "\t\tme -- you\n",
      "}\n"
     ]
    }
   ],
   "source": [
    "import graphviz;\n",
    "\n",
    "this_graph = graphviz.Digraph()    # start your directed graph\n",
    "this_undirected = graphviz.Graph() # ...or your undirected graph\n",
    "\n",
    "this_graph.edge( \"me\", \"you\" )   # Add a relationship between me and you\n",
    "this_undirected.edge( \"me\", \"you\" )\n",
    "\n",
    "print(this_graph.source)       # Print out the dot.\n",
    "print(this_undirected.source)"
   ]
  },
  {
   "cell_type": "markdown",
   "metadata": {},
   "source": [
    "Labels and IDs\n",
    "--------------\n",
    "\n",
    "When you are making a graph, it is important that every node be unique - if you have two people named Tom, then the graph program will have no idea which Tom is friends with Anna. So how do you handle having two people named Tom, without resorting to last names or AHV numbers or something like that?\n",
    "\n",
    "You use *attributes* in the graph, and specifically the *label* attribute. It looks something like this:\n",
    "\n",
    "    graph G {\n",
    "        Tom1 [ label=\"Tom\" ]\n",
    "        Tom2 [ label=\"Tom\" ]\n",
    "        Tom1 -- Anna\n",
    "        Tom1 -- Tom2\n",
    "    }\n",
    "\n",
    "Before this, we only named our nodes when we needed them to define a relationship (an edge). But if we need to give any extra information about a node, such as a label, then we have to list it first, on its own line, with the extra information between the square brackets.\n",
    "\n",
    "There are a whole lot of options for things you might want to define! Most of them have to do with how the graph should look, and we will look at them in a minute. For now, this is what we get for this graph:"
   ]
  },
  {
   "cell_type": "code",
   "execution_count": 14,
   "metadata": {
    "collapsed": false
   },
   "outputs": [
    {
     "name": "stdout",
     "output_type": "stream",
     "text": [
      "Couldn't evaluate or find in history: make_dotcell(lg)\n"
     ]
    }
   ],
   "source": [
    "lg = graphviz.Graph()   # Make this one undirected\n",
    "lg.graph_attr['layout'] = 'neato'\n",
    "lg.node( \"Tom1\", label=\"Tom\" )\n",
    "lg.node( \"Tom2\", label=\"Tom\" )\n",
    "lg.edge( \"Tom1\", \"Anna\", label=\"siblings\" )\n",
    "lg.edge( \"Tom1\", \"Tom2\", label=\"friends\" )\n",
    "\n",
    "%recall make_dotcell(lg)"
   ]
  },
  {
   "cell_type": "code",
   "execution_count": 15,
   "metadata": {
    "collapsed": false
   },
   "outputs": [
    {
     "data": {
      "image/svg+xml": [
       "<?xml version=\"1.0\" encoding=\"UTF-8\" standalone=\"no\"?>\n",
       "<!DOCTYPE svg PUBLIC \"-//W3C//DTD SVG 1.1//EN\"\n",
       " \"http://www.w3.org/Graphics/SVG/1.1/DTD/svg11.dtd\">\n",
       "<!-- Generated by graphviz version 2.39.20151021.1911 (20151021.1911)\n",
       " -->\n",
       "<!-- Title: %3 Pages: 1 -->\n",
       "<svg width=\"136pt\" height=\"170pt\"\n",
       " viewBox=\"0.00 0.00 135.79 169.63\" xmlns=\"http://www.w3.org/2000/svg\" xmlns:xlink=\"http://www.w3.org/1999/xlink\">\n",
       "<g id=\"graph0\" class=\"graph\" transform=\"scale(1 1) rotate(0) translate(5.44302 165.625)\">\n",
       "<title>%3</title>\n",
       "<polygon fill=\"white\" stroke=\"transparent\" points=\"-5.44302,4 -5.44302,-165.625 130.347,-165.625 130.347,4 -5.44302,4\"/>\n",
       "<!-- Tom1 -->\n",
       "<g id=\"node1\" class=\"node\">\n",
       "<title>Tom1</title>\n",
       "<ellipse fill=\"none\" stroke=\"black\" cx=\"54.5043\" cy=\"-86.2063\" rx=\"27.8951\" ry=\"18\"/>\n",
       "<text text-anchor=\"middle\" x=\"54.5043\" y=\"-82.5063\" font-family=\"Times,serif\" font-size=\"14.00\">Tom</text>\n",
       "</g>\n",
       "<!-- Tom2 -->\n",
       "<g id=\"node2\" class=\"node\">\n",
       "<title>Tom2</title>\n",
       "<ellipse fill=\"none\" stroke=\"black\" cx=\"98.3996\" cy=\"-143.625\" rx=\"27.8951\" ry=\"18\"/>\n",
       "<text text-anchor=\"middle\" x=\"98.3996\" y=\"-139.925\" font-family=\"Times,serif\" font-size=\"14.00\">Tom</text>\n",
       "</g>\n",
       "<!-- Tom1&#45;&#45;Tom2 -->\n",
       "<g id=\"edge2\" class=\"edge\">\n",
       "<title>Tom1&#45;&#45;Tom2</title>\n",
       "<path fill=\"none\" stroke=\"black\" d=\"M66.9655,-102.507C72.8459,-110.199 79.8513,-119.363 85.7548,-127.085\"/>\n",
       "<text text-anchor=\"middle\" x=\"56.8601\" y=\"-118.596\" font-family=\"Times,serif\" font-size=\"14.00\">friends</text>\n",
       "</g>\n",
       "<!-- Anna -->\n",
       "<g id=\"node3\" class=\"node\">\n",
       "<title>Anna</title>\n",
       "<ellipse fill=\"none\" stroke=\"black\" cx=\"30.5473\" cy=\"-18\" rx=\"30.5947\" ry=\"18\"/>\n",
       "<text text-anchor=\"middle\" x=\"30.5473\" y=\"-14.3\" font-family=\"Times,serif\" font-size=\"14.00\">Anna</text>\n",
       "</g>\n",
       "<!-- Tom1&#45;&#45;Anna -->\n",
       "<g id=\"edge1\" class=\"edge\">\n",
       "<title>Tom1&#45;&#45;Anna</title>\n",
       "<path fill=\"none\" stroke=\"black\" d=\"M48.3348,-68.6415C44.7856,-58.537 40.3388,-45.8766 36.7792,-35.7424\"/>\n",
       "<text text-anchor=\"middle\" x=\"20.557\" y=\"-55.9919\" font-family=\"Times,serif\" font-size=\"14.00\">siblings</text>\n",
       "</g>\n",
       "</g>\n",
       "</svg>\n"
      ]
     },
     "metadata": {},
     "output_type": "display_data"
    }
   ],
   "source": [
    "%%dot -f svg\n",
    "graph {\n",
    "\tgraph [layout=neato]\n",
    "\t\tTom1 [label=Tom]\n",
    "\t\tTom2 [label=Tom]\n",
    "\t\t\tTom1 -- Anna [label=siblings]\n",
    "\t\t\tTom1 -- Tom2 [label=friends]\n",
    "}"
   ]
  },
  {
   "cell_type": "markdown",
   "metadata": {},
   "source": [
    "Notice, in this, that Anna still popped into existence when we referred to her in a relationship. But in the real world, we will probably want to declare our nodes with (for example) student numbers as the unique identifier, and names for display in the graph.\n",
    "\n",
    "Styling the graph\n",
    "-----------------\n",
    "\n",
    "We can also set attributes on a graph using Python. Imagine that we want a graph that displays the relationships between members of a family and where they go each day.\n",
    "\n",
    "Here's how we can do that in python, and what we get."
   ]
  },
  {
   "cell_type": "code",
   "execution_count": 16,
   "metadata": {
    "collapsed": false
   },
   "outputs": [
    {
     "name": "stdout",
     "output_type": "stream",
     "text": [
      "Couldn't evaluate or find in history: make_dotcell( family )\n"
     ]
    }
   ],
   "source": [
    "family_members = [\"Tara\", \"Mike\", \"Sophie\"]\n",
    "places = [\"work\", \"school\"]\n",
    "\n",
    "# Make the graph\n",
    "family = graphviz.Digraph()\n",
    "# Set some defaults\n",
    "family.graph_attr = {\"bgcolor\": \"black\"}\n",
    "family.node_attr = {'fontcolor': \"red\" }\n",
    "family.edge_attr = {'fontcolor': \"white\", 'color': \"white\"}\n",
    "\n",
    "# Add the family members\n",
    "for member in family_members:\n",
    "    family.node(member)\n",
    "# Add the places they go\n",
    "for place in places:\n",
    "    family.node(place, shape=\"house\", color=\"blue\", fontcolor=\"white\")\n",
    "\n",
    "# Set up the relationships\n",
    "family.edge( \"Tara\", \"Sophie\", label=\"is mother\", color=\"green\", fontcolor=\"green\" )\n",
    "family.edge( \"Mike\", \"Sophie\", label=\"is father\", color=\"green\", fontcolor=\"green\" )\n",
    "family.edge( \"Tara\", \"work\", label=\"goes to\" )\n",
    "family.edge( \"Mike\", \"work\", label=\"goes to\" )\n",
    "family.edge( \"Sophie\", \"school\", label=\"goes to\" )\n",
    "\n",
    "# Make the cell with the dot\n",
    "%recall make_dotcell( family )"
   ]
  },
  {
   "cell_type": "code",
   "execution_count": 17,
   "metadata": {
    "collapsed": false
   },
   "outputs": [
    {
     "data": {
      "image/svg+xml": [
       "<?xml version=\"1.0\" encoding=\"UTF-8\" standalone=\"no\"?>\n",
       "<!DOCTYPE svg PUBLIC \"-//W3C//DTD SVG 1.1//EN\"\n",
       " \"http://www.w3.org/Graphics/SVG/1.1/DTD/svg11.dtd\">\n",
       "<!-- Generated by graphviz version 2.39.20151021.1911 (20151021.1911)\n",
       " -->\n",
       "<!-- Title: %3 Pages: 1 -->\n",
       "<svg width=\"239pt\" height=\"218pt\"\n",
       " viewBox=\"0.00 0.00 238.86 218.00\" xmlns=\"http://www.w3.org/2000/svg\" xmlns:xlink=\"http://www.w3.org/1999/xlink\">\n",
       "<g id=\"graph0\" class=\"graph\" transform=\"scale(1 1) rotate(0) translate(4 214)\">\n",
       "<title>%3</title>\n",
       "<polygon fill=\"black\" stroke=\"transparent\" points=\"-4,4 -4,-214 234.862,-214 234.862,4 -4,4\"/>\n",
       "<!-- Tara -->\n",
       "<g id=\"node1\" class=\"node\">\n",
       "<title>Tara</title>\n",
       "<ellipse fill=\"none\" stroke=\"black\" cx=\"55.8623\" cy=\"-192\" rx=\"27.0966\" ry=\"18\"/>\n",
       "<text text-anchor=\"middle\" x=\"55.8623\" y=\"-188.3\" font-family=\"Times,serif\" font-size=\"14.00\" fill=\"red\">Tara</text>\n",
       "</g>\n",
       "<!-- Sophie -->\n",
       "<g id=\"node3\" class=\"node\">\n",
       "<title>Sophie</title>\n",
       "<ellipse fill=\"none\" stroke=\"black\" cx=\"60.8623\" cy=\"-105\" rx=\"35.9954\" ry=\"18\"/>\n",
       "<text text-anchor=\"middle\" x=\"60.8623\" y=\"-101.3\" font-family=\"Times,serif\" font-size=\"14.00\" fill=\"red\">Sophie</text>\n",
       "</g>\n",
       "<!-- Tara&#45;&gt;Sophie -->\n",
       "<g id=\"edge1\" class=\"edge\">\n",
       "<title>Tara&#45;&gt;Sophie</title>\n",
       "<path fill=\"none\" stroke=\"green\" d=\"M32.7726,-182.347C14.4239,-173.15 -6.69743,-158.185 2.8623,-141 7.51634,-132.634 15.0084,-125.963 23.084,-120.75\"/>\n",
       "<polygon fill=\"green\" stroke=\"green\" points=\"25.0353,-123.666 31.9693,-115.655 21.5532,-117.593 25.0353,-123.666\"/>\n",
       "<text text-anchor=\"middle\" x=\"29.3623\" y=\"-144.8\" font-family=\"Times,serif\" font-size=\"14.00\" fill=\"green\">is mother</text>\n",
       "</g>\n",
       "<!-- work -->\n",
       "<g id=\"node4\" class=\"node\">\n",
       "<title>work</title>\n",
       "<polygon fill=\"none\" stroke=\"blue\" points=\"217.167,-110.562 180.862,-123 144.558,-110.562 144.592,-90.4377 217.133,-90.4377 217.167,-110.562\"/>\n",
       "<text text-anchor=\"middle\" x=\"180.862\" y=\"-101.3\" font-family=\"Times,serif\" font-size=\"14.00\" fill=\"white\">work</text>\n",
       "</g>\n",
       "<!-- Tara&#45;&gt;work -->\n",
       "<g id=\"edge3\" class=\"edge\">\n",
       "<title>Tara&#45;&gt;work</title>\n",
       "<path fill=\"none\" stroke=\"white\" d=\"M58.6197,-173.811C61.1433,-162.977 65.9152,-149.689 74.8623,-141 84.4319,-131.706 114.219,-122.028 139.789,-115.05\"/>\n",
       "<polygon fill=\"white\" stroke=\"white\" points=\"140.924,-118.37 149.691,-112.421 139.128,-111.604 140.924,-118.37\"/>\n",
       "<text text-anchor=\"middle\" x=\"95.3623\" y=\"-144.8\" font-family=\"Times,serif\" font-size=\"14.00\" fill=\"white\">goes to</text>\n",
       "</g>\n",
       "<!-- Mike -->\n",
       "<g id=\"node2\" class=\"node\">\n",
       "<title>Mike</title>\n",
       "<ellipse fill=\"none\" stroke=\"black\" cx=\"162.862\" cy=\"-192\" rx=\"29.795\" ry=\"18\"/>\n",
       "<text text-anchor=\"middle\" x=\"162.862\" y=\"-188.3\" font-family=\"Times,serif\" font-size=\"14.00\" fill=\"red\">Mike</text>\n",
       "</g>\n",
       "<!-- Mike&#45;&gt;Sophie -->\n",
       "<g id=\"edge2\" class=\"edge\">\n",
       "<title>Mike&#45;&gt;Sophie</title>\n",
       "<path fill=\"none\" stroke=\"green\" d=\"M150.898,-175.177C142.87,-164.605 131.641,-151.105 119.862,-141 112.225,-134.447 103.259,-128.324 94.6552,-123.053\"/>\n",
       "<polygon fill=\"green\" stroke=\"green\" points=\"96.2828,-119.949 85.891,-117.885 92.7274,-125.979 96.2828,-119.949\"/>\n",
       "<text text-anchor=\"middle\" x=\"156.862\" y=\"-144.8\" font-family=\"Times,serif\" font-size=\"14.00\" fill=\"green\">is father</text>\n",
       "</g>\n",
       "<!-- Mike&#45;&gt;work -->\n",
       "<g id=\"edge4\" class=\"edge\">\n",
       "<title>Mike&#45;&gt;work</title>\n",
       "<path fill=\"none\" stroke=\"white\" d=\"M177.693,-176.003C182.183,-170.149 186.538,-163.189 188.862,-156 191.46,-147.965 191.062,-138.937 189.522,-130.734\"/>\n",
       "<polygon fill=\"white\" stroke=\"white\" points=\"192.894,-129.792 187.099,-120.923 186.099,-131.47 192.894,-129.792\"/>\n",
       "<text text-anchor=\"middle\" x=\"210.362\" y=\"-144.8\" font-family=\"Times,serif\" font-size=\"14.00\" fill=\"white\">goes to</text>\n",
       "</g>\n",
       "<!-- school -->\n",
       "<g id=\"node5\" class=\"node\">\n",
       "<title>school</title>\n",
       "<polygon fill=\"none\" stroke=\"blue\" points=\"103.52,-23.5623 60.8623,-36 18.2046,-23.5623 18.2444,-3.43769 103.48,-3.43769 103.52,-23.5623\"/>\n",
       "<text text-anchor=\"middle\" x=\"60.8623\" y=\"-14.3\" font-family=\"Times,serif\" font-size=\"14.00\" fill=\"white\">school</text>\n",
       "</g>\n",
       "<!-- Sophie&#45;&gt;school -->\n",
       "<g id=\"edge5\" class=\"edge\">\n",
       "<title>Sophie&#45;&gt;school</title>\n",
       "<path fill=\"none\" stroke=\"white\" d=\"M60.8623,-86.9735C60.8623,-75.1918 60.8623,-59.5607 60.8623,-46.1581\"/>\n",
       "<polygon fill=\"white\" stroke=\"white\" points=\"64.3624,-46.0033 60.8623,-36.0034 57.3624,-46.0034 64.3624,-46.0033\"/>\n",
       "<text text-anchor=\"middle\" x=\"81.3623\" y=\"-57.8\" font-family=\"Times,serif\" font-size=\"14.00\" fill=\"white\">goes to</text>\n",
       "</g>\n",
       "</g>\n",
       "</svg>\n"
      ]
     },
     "metadata": {},
     "output_type": "display_data"
    }
   ],
   "source": [
    "%%dot -f svg\n",
    "digraph {\n",
    "\tgraph [bgcolor=black]\n",
    "\tnode [fontcolor=red]\n",
    "\tedge [color=white fontcolor=white]\n",
    "\t\tTara\n",
    "\t\tMike\n",
    "\t\tSophie\n",
    "\t\twork [color=blue fontcolor=white shape=house]\n",
    "\t\tschool [color=blue fontcolor=white shape=house]\n",
    "\t\t\tTara -> Sophie [label=\"is mother\" color=green fontcolor=green]\n",
    "\t\t\tMike -> Sophie [label=\"is father\" color=green fontcolor=green]\n",
    "\t\t\tTara -> work [label=\"goes to\"]\n",
    "\t\t\tMike -> work [label=\"goes to\"]\n",
    "\t\t\tSophie -> school [label=\"goes to\"]\n",
    "}"
   ]
  },
  {
   "cell_type": "markdown",
   "metadata": {},
   "source": [
    "All done! There are a huge number of styling attributes - ways to control line thickness, color, shape, graph direction, and so on. They are documented in eye-watering detail here:\n",
    "\n",
    "http://www.graphviz.org/content/attrs\n",
    "\n",
    "Have fun!"
   ]
  }
 ],
 "metadata": {
  "kernelspec": {
   "display_name": "Python 3",
   "language": "python",
   "name": "python3"
  },
  "language_info": {
   "codemirror_mode": {
    "name": "ipython",
    "version": 3
   },
   "file_extension": ".py",
   "mimetype": "text/x-python",
   "name": "python",
   "nbconvert_exporter": "python",
   "pygments_lexer": "ipython3",
   "version": "3.5.1"
  }
 },
 "nbformat": 4,
 "nbformat_minor": 0
}
