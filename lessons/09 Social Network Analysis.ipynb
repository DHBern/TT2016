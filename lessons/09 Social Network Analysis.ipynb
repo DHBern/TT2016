{
 "cells": [
  {
   "cell_type": "markdown",
   "metadata": {},
   "source": [
    "Social Network Analysis with networkx\n",
    "======\n",
    "\n",
    "Graphviz is great for drawing graphs, but as your graphs get bigger you will want to get extra information out of them through analysis. So today we will use [the networkx library](https://networkx.readthedocs.org/en/stable/overview.html) to visualize and analyze a larger data set.\n",
    "\n",
    "The data is taken from the tutorial \"Introduction to network analysis with Gephi\" by Martin Grandjean, [available here](http://www.martingrandjean.ch/introduction-to-network-visualization-gephi/). If this is a topic that is relevant to your work, I recommend downloading Gephi and working through the tutorial, although I make no guarantees concerning how smoothly Gephi will work on your system."
   ]
  },
  {
   "cell_type": "markdown",
   "metadata": {},
   "source": [
    "Let's have a look at our data set, found in the files `Nodes1.csv` and `Edges1.csv`. The nodes file looks like this:\n",
    "\n",
    "    Id;Label;Attribute1;City;Latitude;Longitude\n",
    "    376088951;name1;1;Berlin;52.51;13.4\n",
    "    \n",
    "and the edges file looks like this.\n",
    "\n",
    "    Source;Target;Type;Weight\n",
    "    376088951;17647430;Directed;1\n",
    "    \n",
    "These are CSV files (using a semicolon as separator), and [we already know how to parse CSV files](https://docs.python.org/3/library/csv.html). So we are going to want to read the `Nodes1` file to make our nodes with their respective attributes, and then we'll read the `Edges1` file to connect the nodes in the graph.\n",
    "\n",
    "First let's just make sure we can get the information we want out of the CSV. We will use the header row to get the data keys, and then put that together with each of the subsequent rows to make a dictionary object that corresponds to the row. We'll print out five of them, just to make sure we are on track."
   ]
  },
  {
   "cell_type": "code",
   "execution_count": 1,
   "metadata": {
    "collapsed": false
   },
   "outputs": [
    {
     "name": "stdout",
     "output_type": "stream",
     "text": [
      "{'Longitude': '13.4', 'Latitude': '52.51', 'Id': '376088951', 'Label': 'name1', 'Attribute1': '1', 'City': 'Berlin'}\n",
      "{'Longitude': '13.4', 'Latitude': '52.51', 'Id': '17647430', 'Label': 'name2', 'Attribute1': '2', 'City': 'Berlin'}\n",
      "{'Longitude': '13.4', 'Latitude': '52.51', 'Id': '32416061', 'Label': 'name3', 'Attribute1': '1', 'City': 'Berlin'}\n",
      "{'Longitude': '13.4', 'Latitude': '52.51', 'Id': '550180187', 'Label': 'name4', 'Attribute1': '2', 'City': 'Berlin'}\n",
      "{'Longitude': '13.4', 'Latitude': '52.51', 'Id': '28110685', 'Label': 'name5', 'Attribute1': '1', 'City': 'Berlin'}\n"
     ]
    }
   ],
   "source": [
    "import csv\n",
    "\n",
    "limit = 5;  # We will stop after five data rows\n",
    "with open('Projects/TT2016/graphs/Nodes1.csv.txt', newline='') as f:\n",
    "    reader = csv.reader(f, delimiter=';')\n",
    "    # First, read in the first row to get our labels. We can use next() for this.\n",
    "    header = next(reader)\n",
    "    # The reader now contains the second and subsequent rows. We loop through them...\n",
    "    for row in reader:\n",
    "        # Create a new dictionary object for each row\n",
    "        nodedata = {}\n",
    "        # Go through the items in the row and stick their values, with the correct \n",
    "        # key, into the hash\n",
    "        for i in range(len(row)):\n",
    "            nodedata[header[i]] = row[i]\n",
    "        # Print out the result.\n",
    "        print(nodedata)\n",
    "        # Make sure we stop after 5\n",
    "        limit -= 1\n",
    "        if limit == 0:\n",
    "            break"
   ]
  },
  {
   "cell_type": "markdown",
   "metadata": {},
   "source": [
    "OK! Now we have to take each of these rows and make a node out of it. So instead of printing out each key/value pair, we will make a node using the Id key, and make the rest of the keys into attributes on that node.\n",
    "\n",
    "Here is where we start using the networkx library, so we have to import it. We create a new graph by calling the `Graph()` or `Digraph()` method of networkx. \n",
    "\n",
    "Note the statement `import networkx as nx`: that is just an alias for the library, and so a convenient shorthand to let us type `nx` whenever we mean `networkx`."
   ]
  },
  {
   "cell_type": "code",
   "execution_count": 2,
   "metadata": {
    "collapsed": true
   },
   "outputs": [],
   "source": [
    "import networkx as nx\n",
    "\n",
    "G = nx.DiGraph()"
   ]
  },
  {
   "cell_type": "markdown",
   "metadata": {},
   "source": [
    "Now compare this bit of code with the one above. All I have changed is the following:\n",
    "\n",
    "* Removed the limits\n",
    "* Saved the node ID into its own variable, rather than into a dictionary key\n",
    "* Changed the `print` statement to a method call adding the node to the graph"
   ]
  },
  {
   "cell_type": "code",
   "execution_count": 3,
   "metadata": {
    "collapsed": false
   },
   "outputs": [
    {
     "data": {
      "text/plain": [
       "1000"
      ]
     },
     "execution_count": 3,
     "metadata": {},
     "output_type": "execute_result"
    }
   ],
   "source": [
    "with open('Projects/TT2016/graphs/Nodes1.csv.txt', newline='') as f:\n",
    "    reader = csv.reader(f, delimiter=';')\n",
    "    # First, read in the first row to get our labels.\n",
    "    header = next(reader)\n",
    "    for row in reader:\n",
    "        # Make a dictionary that will hold our node keys.\n",
    "        nodeid = None\n",
    "        nodedata = {}\n",
    "        for i in range(len(row)):\n",
    "            if header[i] == 'Id':\n",
    "                nodeid = row[i]\n",
    "            else:\n",
    "                nodedata[header[i]] = row[i]\n",
    "        # Now create the graph node using the 'Id' field as the main label.\n",
    "        G.add_node(nodeid, attr_dict=nodedata)\n",
    "        \n",
    "G.number_of_nodes()"
   ]
  },
  {
   "cell_type": "markdown",
   "metadata": {},
   "source": [
    "That looks right - we should indeed have 1000 nodes.\n",
    "\n",
    "**IF YOU HAVE A MULTIPLE OF 1000 NODES:** This almost certainly means that you ran the above cell more than once. If so, you will have to go back up to cell 2 and reinitialize your graph, then run your node-adding code one more time. \n",
    "\n",
    "Now let's look at one of the nodes. "
   ]
  },
  {
   "cell_type": "code",
   "execution_count": 4,
   "metadata": {
    "collapsed": false
   },
   "outputs": [
    {
     "data": {
      "text/plain": [
       "{'Attribute1': '2',\n",
       " 'City': 'Berlin',\n",
       " 'Label': 'name48',\n",
       " 'Latitude': '52.51',\n",
       " 'Longitude': '13.4'}"
      ]
     },
     "execution_count": 4,
     "metadata": {},
     "output_type": "execute_result"
    }
   ],
   "source": [
    "G.node['18673689']"
   ]
  },
  {
   "cell_type": "markdown",
   "metadata": {},
   "source": [
    "Great! Now we have to add the edges. Looking back at our CSV file, it has four fields: Source, Target, Type, and Weight. It looks like the Type is always Directed, and we are working with a directed graph, so we can ignore that. \n",
    "\n",
    "You add an edge by specifying its source (the \"from\" node), target (the \"to\" node), and any attributes it should carry. Let's save the weight as an edge attribute; since in this case all our 'Type' fields say 'Directed', and we have already made this a directed graph, we can skip that field.\n",
    "\n",
    "Our code this time will be much like the above, but rather simpler - instead of matching up header keys and row values, we will just make the assumption that the source is the first thing in the row, the target second, and the weight fourth."
   ]
  },
  {
   "cell_type": "code",
   "execution_count": 5,
   "metadata": {
    "collapsed": false
   },
   "outputs": [
    {
     "data": {
      "text/plain": [
       "14116"
      ]
     },
     "execution_count": 5,
     "metadata": {},
     "output_type": "execute_result"
    }
   ],
   "source": [
    "with open('Projects/TT2016/graphs/Edges1.csv.txt', newline='') as f:\n",
    "    reader = csv.reader(f, delimiter=';')\n",
    "    # First, read in the first row to get our labels.\n",
    "    header = next(reader)\n",
    "    for row in reader:\n",
    "        # Let's not do anything fancy; we know that the source is first, \n",
    "        # the target second, and the weight fourth.       \n",
    "        # Create the edge between the source and the target, adding the \n",
    "        # weight as an attribute.\n",
    "        G.add_edge(row[0], row[1], weight=row[3])\n",
    "        \n",
    "G.number_of_edges()"
   ]
  },
  {
   "cell_type": "markdown",
   "metadata": {},
   "source": [
    "Looking good! \n",
    "\n",
    "**IF YOU HAVE 15116 NODES OR MORE:** You probably forgot to use the Edges file instead of the Nodes file, when you first ran this loop. If so you will have to go back to cell 2, re-initialize your graph, and re-add your nodes and your edges.\n",
    "\n",
    "NetworkX can also draw graphs for you, using a library called *matplotlib*. It expects you to make this library available for it under the name `plt`, so we will do that using the `import X as Y` trick again. We will also use the *pylab* library to make these graphs appear neatly inside the notebook.\n",
    "\n",
    "We will see though that this graph is going to be too huge to get much out of other than a pretty picture!"
   ]
  },
  {
   "cell_type": "code",
   "execution_count": 6,
   "metadata": {
    "collapsed": false
   },
   "outputs": [
    {
     "name": "stdout",
     "output_type": "stream",
     "text": [
      "Populating the interactive namespace from numpy and matplotlib\n"
     ]
    },
    {
     "name": "stderr",
     "output_type": "stream",
     "text": [
      "WARNING: pylab import has clobbered these variables: ['f', 'pylab']\n",
      "`%matplotlib` prevents importing * from pylab and numpy\n"
     ]
    }
   ],
   "source": [
    "import matplotlib.pyplot as plt\n",
    "import pylab\n",
    "%pylab inline"
   ]
  },
  {
   "cell_type": "markdown",
   "metadata": {},
   "source": [
    "Now we can draw a simple version of the graph."
   ]
  },
  {
   "cell_type": "code",
   "execution_count": 7,
   "metadata": {
    "collapsed": false
   },
   "outputs": [
    {
     "data": {
      "image/png": "[encoded data removed]",
      "text/plain": [
       "<matplotlib.figure.Figure at 0x106e194a8>"
      ]
     },
     "metadata": {},
     "output_type": "display_data"
    }
   ],
   "source": [
    "nx.draw(G)"
   ]
  },
  {
   "cell_type": "markdown",
   "metadata": {},
   "source": [
    "What is really more interesting here is to run some analysis on the graph, to get it to tell us things! People who work with social networks have a few different measures that they use for this, which correspond roughly to the following interesting questions:\n",
    "\n",
    "- Degree centrality: how many people do I personally know, compared to others in the network?\n",
    "- Closeness centrality: how many degrees of separation am I, on average, from other people in the network?\n",
    "- Betweenness centrality: how often am I the person that two others have in common?\n",
    "- Eigenvector centrality: how many well-connected people am I connected to?\n",
    "\n",
    "So let's get an answer for each of these. There is a method in networkx for each of these measures; each one calculates the answers for the entire graph and returns a dictionary whose keys are the nodes and whose values are the centrality measures for those nodes."
   ]
  },
  {
   "cell_type": "code",
   "execution_count": 8,
   "metadata": {
    "collapsed": false
   },
   "outputs": [
    {
     "data": {
      "text/plain": [
       "0.01001001001001001"
      ]
     },
     "execution_count": 8,
     "metadata": {},
     "output_type": "execute_result"
    }
   ],
   "source": [
    "# Calculate the values for the whole graph\n",
    "dc = nx.degree_centrality(G)\n",
    "# Get the answer for one of the nodes\n",
    "dc['18673689']"
   ]
  },
  {
   "cell_type": "markdown",
   "metadata": {},
   "source": [
    "Once that is done, we can find out which nodes are most popular by sorting the list.\n",
    "\n",
    "Here we see a bonus Python technique: you can sort a list not just by the contents of the list itself, but really by any measure you like! The trick is to give the `sorted` function the name of a function that you have defined, which returns something by which the item should be sorted in the list. Here is how it works."
   ]
  },
  {
   "cell_type": "code",
   "execution_count": 9,
   "metadata": {
    "collapsed": false
   },
   "outputs": [
    {
     "name": "stdout",
     "output_type": "stream",
     "text": [
      "Node 257396357 is the most popular, with a centrality of 0.209209\n",
      "Node 256948566 is the least popular, with a centrality of 0.003003\n",
      "{'Attribute1': '1', 'Longitude': '9.98', 'Latitude': '53.54', 'City': 'Hamburg', 'Label': 'name79'}\n",
      "{'Attribute1': '1', 'Longitude': '-0.11', 'Latitude': '51.5', 'City': 'London', 'Label': 'name215'}\n",
      "{'Attribute1': '1', 'Longitude': '4.83', 'Latitude': '45.75', 'City': 'Lyon', 'Label': 'name638'}\n",
      "{'Attribute1': '2', 'Longitude': '16.38', 'Latitude': '48.2', 'City': 'Wien', 'Label': 'name540'}\n",
      "{'Attribute1': '2', 'Longitude': '8.52', 'Latitude': '47.38', 'City': 'Zurich', 'Label': 'name124'}\n",
      "{'Attribute1': '1', 'Longitude': '14.42', 'Latitude': '50.07', 'City': 'Prag', 'Label': 'name343'}\n",
      "{'Attribute1': '2', 'Longitude': '11.57', 'Latitude': '48.14', 'City': 'Munchen', 'Label': 'name106'}\n",
      "{'Attribute1': '1', 'Longitude': '13.4', 'Latitude': '52.51', 'City': 'Berlin', 'Label': 'name13'}\n",
      "{'Attribute1': '1', 'Longitude': '2.34', 'Latitude': '48.85', 'City': 'Paris', 'Label': 'name289'}\n",
      "{'Attribute1': '1', 'Longitude': '9.98', 'Latitude': '53.54', 'City': 'Hamburg', 'Label': 'name81'}\n"
     ]
    }
   ],
   "source": [
    "# Define our sorting key, which is the centrality measure\n",
    "def getDegree(nodeid):\n",
    "    return dc[nodeid]\n",
    "\n",
    "# Sort the list of nodes by centrality. We reverse it so that the\n",
    "# most central nodes come first.\n",
    "popular = sorted(G.nodes(), key=getDegree, reverse=True)\n",
    "\n",
    "# Print out the first and last nodes\n",
    "print(\"Node %s is the most popular, with a centrality of %f\" % (popular[0], dc[popular[0]]))\n",
    "print(\"Node %s is the least popular, with a centrality of %f\" % (popular[-1], dc[popular[-1]]))\n",
    "\n",
    "# So who are our ten most popular nodes?\n",
    "for i in range(10):\n",
    "    print(G.node[popular[i]])"
   ]
  },
  {
   "cell_type": "markdown",
   "metadata": {},
   "source": [
    "The methods `betweenness_centrality`, `closeness_centrality`, and `eigenvector_centrality` work precisely the same way. Try them out and see who is most significant to the network, by each of these measures."
   ]
  }
 ],
 "metadata": {
  "kernelspec": {
   "display_name": "Python 3",
   "language": "python",
   "name": "python3"
  },
  "language_info": {
   "codemirror_mode": {
    "name": "ipython",
    "version": 3
   },
   "file_extension": ".py",
   "mimetype": "text/x-python",
   "name": "python",
   "nbconvert_exporter": "python",
   "pygments_lexer": "ipython3",
   "version": "3.5.1"
  }
 },
 "nbformat": 4,
 "nbformat_minor": 0
}
